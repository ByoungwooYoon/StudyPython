{
 "cells": [
  {
   "cell_type": "markdown",
   "metadata": {},
   "source": [
    "# H1"
   ]
  },
  {
   "cell_type": "code",
   "execution_count": null,
   "metadata": {},
   "outputs": [],
   "source": [
    "num1 = 719\n",
    "str1 = f'Test markup {num1 = }'\n",
    "print(str1)"
   ]
  },
  {
   "cell_type": "markdown",
   "metadata": {},
   "source": [
    "## H2 for Lawrence\n",
    "- `future` : this code help him"
   ]
  },
  {
   "cell_type": "code",
   "execution_count": 4,
   "metadata": {},
   "outputs": [
    {
     "name": "stdout",
     "output_type": "stream",
     "text": [
      "C:\\Workspace\\StudyPython <class 'str'>\n",
      "C:\\Workspace\\StudyPython <class 'str'>\n"
     ]
    }
   ],
   "source": [
    "rStr = r'C:\\Workspace\\StudyPython'\n",
    "fStr = f'C:\\Workspace\\StudyPython'\n",
    "\n",
    "print(rStr, type(rStr))\n",
    "print(fStr, type(fStr))\n"
   ]
  }
 ],
 "metadata": {
  "kernelspec": {
   "display_name": "Python 3.10.4 64-bit",
   "language": "python",
   "name": "python3"
  },
  "language_info": {
   "codemirror_mode": {
    "name": "ipython",
    "version": 3
   },
   "file_extension": ".py",
   "mimetype": "text/x-python",
   "name": "python",
   "nbconvert_exporter": "python",
   "pygments_lexer": "ipython3",
   "version": "3.10.4"
  },
  "orig_nbformat": 4,
  "vscode": {
   "interpreter": {
    "hash": "36d6e6ae6560ef6bc976c0e2638369021d42f99d5a5a2fb78b98a4832e54fc87"
   }
  }
 },
 "nbformat": 4,
 "nbformat_minor": 2
}
